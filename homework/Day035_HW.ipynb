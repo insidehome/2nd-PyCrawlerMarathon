{
 "cells": [
  {
   "cell_type": "markdown",
   "metadata": {},
   "source": [
    "# 加速：多線程爬蟲\n",
    "\n",
    "\n",
    "\n",
    "* 了解知乎 API 使用方式與回傳內容\n",
    "* 撰寫程式存取 API 且添加標頭"
   ]
  },
  {
   "cell_type": "markdown",
   "metadata": {},
   "source": [
    "## 作業目標\n",
    "\n",
    "* 找一個之前實作過的爬蟲改用多線程改寫，比較前後時間的差異。\n"
   ]
  },
  {
   "cell_type": "code",
   "execution_count": 12,
   "metadata": {},
   "outputs": [],
   "source": [
    "proxy_ips = []\n",
    "cnt = 0\n",
    "\n",
    "import requests\n",
    "from bs4 import BeautifulSoup\n",
    "\n",
    "r = requests.get('https://free-proxy-list.net/')\n",
    "soup = BeautifulSoup(r.text, 'lxml')\n",
    "trs = soup.table.tbody # 當我們直接存取 https://github.com/new 網址時，網頁會被導到登入頁"
   ]
  },
  {
   "cell_type": "code",
   "execution_count": 13,
   "metadata": {},
   "outputs": [
    {
     "name": "stdout",
     "output_type": "stream",
     "text": [
      "180.250.131.94 : 31734 - https: yes\n",
      "119.15.82.222 : 37790 - https: yes\n",
      "118.173.233.31 : 59669 - https: yes\n",
      "158.140.167.148 : 53281 - https: yes\n",
      "134.249.165.49 : 53281 - https: yes\n",
      "185.188.218.10 : 60928 - https: yes\n",
      "213.6.226.202 : 55732 - https: yes\n",
      "181.48.47.26 : 53281 - https: yes\n",
      "196.0.111.194 : 34638 - https: yes\n",
      "103.44.136.9 : 46706 - https: yes\n"
     ]
    },
    {
     "data": {
      "text/plain": [
       "[]"
      ]
     },
     "execution_count": 13,
     "metadata": {},
     "output_type": "execute_result"
    }
   ],
   "source": [
    "for tr in trs:\n",
    "    if (cnt < 10):\n",
    "        print(tds[0].text, ':', tds[1].text, '- https:', tds[6].text)    \n",
    "        tds = tr.find_all('td')\n",
    "        if (('no' == tds[6].text) and (tds[1].text != '8080')):\n",
    "        #print(tds[0].text, ':', tds[1].text, '- https:', tds[6].text)\n",
    "            ipStr = tds[0].text + ':' + tds[1].text\n",
    "            proxy_ips.append(ipStr)\n",
    "        cnt += 1\n",
    "\n",
    "proxy_ips   "
   ]
  },
  {
   "cell_type": "code",
   "execution_count": 14,
   "metadata": {},
   "outputs": [
    {
     "name": "stdout",
     "output_type": "stream",
     "text": [
      "8.559226989746094e-05\n"
     ]
    }
   ],
   "source": [
    "import requests\n",
    "import time\n",
    "\n",
    "startTime = time.time()\n",
    "\n",
    "for ip in proxy_ips:\n",
    "    requests.get('http://ip.filefab.com/index.php',\n",
    "                        proxies={'http': ip, 'https': ip}, timeout=10)\n",
    "\n",
    "finishTime = time.time()\n",
    "print(finishTime - startTime) # 正常情況的爬蟲所需時間"
   ]
  },
  {
   "cell_type": "code",
   "execution_count": 15,
   "metadata": {},
   "outputs": [
    {
     "name": "stdout",
     "output_type": "stream",
     "text": [
      "0.00015401840209960938\n"
     ]
    }
   ],
   "source": [
    "import requests\n",
    "import _thread\n",
    "import time\n",
    "'''\n",
    "urls = ['http://python.org', 'http://python.org', 'http://python.org',\n",
    "        'http://python.org', 'http://python.org']\n",
    "'''\n",
    "url = 'http://ip.filefab.com/index.php'\n",
    "\n",
    "startTime = time.time()\n",
    "\n",
    "for ip in proxy_ips:\n",
    "    _thread.start_new_thread( requests.get, (url, ip) )\n",
    "\n",
    "finishTime = time.time()\n",
    "print(finishTime - startTime) # 利用 thread 的爬蟲所需時間"
   ]
  },
  {
   "cell_type": "code",
   "execution_count": null,
   "metadata": {},
   "outputs": [],
   "source": []
  }
 ],
 "metadata": {
  "colab": {
   "name": "homework.ipynb",
   "provenance": []
  },
  "kernelspec": {
   "display_name": "Python 3",
   "language": "python",
   "name": "python3"
  },
  "language_info": {
   "codemirror_mode": {
    "name": "ipython",
    "version": 3
   },
   "file_extension": ".py",
   "mimetype": "text/x-python",
   "name": "python",
   "nbconvert_exporter": "python",
   "pygments_lexer": "ipython3",
   "version": "3.7.1"
  }
 },
 "nbformat": 4,
 "nbformat_minor": 1
}
