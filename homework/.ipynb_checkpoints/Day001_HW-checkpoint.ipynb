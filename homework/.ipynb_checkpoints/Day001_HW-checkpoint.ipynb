{
 "cells": [
  {
   "cell_type": "markdown",
   "metadata": {},
   "source": [
    "# 作業目標\n",
    "1.（簡答題）檔案、API、爬蟲三種取得資料方式有什麼不同？\n",
    "2.（實作）完成一個程式，需滿足下列需求：\n",
    "下載指定檔案到 Data 資料夾，存成檔名 Homework.txt\n",
    "檢查 Data 資料夾是否有 Homework.txt 檔名之檔案\n",
    "將「Hello World」字串覆寫到 Homework.txt 檔案\n",
    "檢查 Homework.txt 檔案字數是否符合 Hello World 字數"
   ]
  },
  {
   "cell_type": "markdown",
   "metadata": {},
   "source": [
    "# 1.檔案、API、爬蟲三種取得資料方式有什麼不同？\n",
    "檔案與api是由系統擁有者主動提供，爬蟲則是被動，需要由網頁上呈現靜態文字轉譯成資料"
   ]
  },
  {
   "cell_type": "markdown",
   "metadata": {},
   "source": [
    "#2.（實作）完成一個程式，需滿足下列需求：\n",
    "下載指定檔案到 Data 資料夾，存成檔名 Homework.txt\n",
    "檢查 Data 資料夾是否有 Homework.txt 檔名之檔案\n",
    "將「Hello World」字串覆寫到 Homework.txt 檔案\n",
    "檢查 Homework.txt 檔案字數是否符合 Hello World 字數"
   ]
  },
  {
   "cell_type": "code",
   "execution_count": 11,
   "metadata": {},
   "outputs": [
    {
     "data": {
      "text/plain": [
       "('./data/homework.txt', <http.client.HTTPMessage at 0x7fb8a840b8d0>)"
      ]
     },
     "execution_count": 11,
     "metadata": {},
     "output_type": "execute_result"
    }
   ],
   "source": [
    "from urllib.request import urlretrieve\n",
    "\n",
    "urlretrieve(\"https://www.w3.org/TR/PNG/iso_8859-1.txt\",\"./data/homework.txt\")"
   ]
  },
  {
   "cell_type": "code",
   "execution_count": 12,
   "metadata": {},
   "outputs": [
    {
     "name": "stdout",
     "output_type": "stream",
     "text": [
      "homework.txt\n"
     ]
    }
   ],
   "source": [
    "import os, sys\n",
    "\n",
    "#check data folder file\n",
    "dirs = os.listdir('./data')\n",
    "\n",
    "for file in dirs:\n",
    "    print(file)"
   ]
  },
  {
   "cell_type": "code",
   "execution_count": 13,
   "metadata": {},
   "outputs": [
    {
     "name": "stdout",
     "output_type": "stream",
     "text": [
      "file length: 6121.\n"
     ]
    }
   ],
   "source": [
    "with open('./data/homework.txt', 'r') as fh:\n",
    "    fh.seek(0,2)\n",
    "    length = fh.tell()\n",
    "    print('file length: ' + str(length) + '.')\n",
    "    fh.close()"
   ]
  },
  {
   "cell_type": "code",
   "execution_count": 14,
   "metadata": {},
   "outputs": [
    {
     "name": "stdout",
     "output_type": "stream",
     "text": [
      "14\n",
      "updated file length: 14.\n"
     ]
    }
   ],
   "source": [
    "with open('./data/homework.txt', 'w') as fh:\n",
    "    f = fh.write('Hello world!!!')\n",
    "    print(f)\n",
    "    fh.seek(0,2)\n",
    "    length = fh.tell()\n",
    "    fh.close()\n",
    "    print('updated file length: ' + str(length) +'.' )"
   ]
  },
  {
   "cell_type": "code",
   "execution_count": 16,
   "metadata": {},
   "outputs": [
    {
     "name": "stdout",
     "output_type": "stream",
     "text": [
      "{'encoding': 'ascii', 'confidence': 1.0, 'language': ''}\n"
     ]
    }
   ],
   "source": [
    "import chardet\n",
    "\n",
    "f = open('./data/homework.txt', 'rb')\n",
    "data = f.read()\n",
    "print(chardet.detect(data))"
   ]
  }
 ],
 "metadata": {
  "kernelspec": {
   "display_name": "Python 3",
   "language": "python",
   "name": "python3"
  },
  "language_info": {
   "codemirror_mode": {
    "name": "ipython",
    "version": 3
   },
   "file_extension": ".py",
   "mimetype": "text/x-python",
   "name": "python",
   "nbconvert_exporter": "python",
   "pygments_lexer": "ipython3",
   "version": "3.7.1"
  }
 },
 "nbformat": 4,
 "nbformat_minor": 2
}
